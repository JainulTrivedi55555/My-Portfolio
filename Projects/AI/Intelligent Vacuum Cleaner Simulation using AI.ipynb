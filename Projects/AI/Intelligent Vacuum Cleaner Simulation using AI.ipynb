{
 "cells": [
  {
   "cell_type": "markdown",
   "metadata": {
    "id": "nGfNRUXof5Xd"
   },
   "source": [
    "# Intelligent Agents: Reflex-Based Agents for the Vacuum-cleaner World\n",
    "\n",
    "Student Name: Jainul Amitkumar Trivedi\n",
    "\n",
    "I have used the following AI tools: Chat GPT \n",
    "\n",
    "I understand that my submission needs to be my own work: JAT\n",
    "\n",
    "## Instructions\n",
    "\n",
    "Total Points: Undergrads 100 + 5 bonus / Graduate students 110\n",
    "\n",
    "Complete this notebook. Use the provided notebook cells and insert additional code and markdown cells as needed. Submit the completely rendered notebook as a HTML file.\n",
    "\n",
    "In Visual Studio Code: Use Export (click on ... in the menu bar) to save your notebook as a HTML file.\n",
    "\n",
    "In Colab you need to save the notebook on GoogleDrive and then add the following block"
   ]
  },
  {
   "cell_type": "code",
   "execution_count": 8,
   "metadata": {
    "id": "MWOThq5sf5Xg"
   },
   "outputs": [],
   "source": [
    "# !pip install nbconvert\n",
    "# from google.colab import drive\n",
    "# drive.mount('/content/drive')\n",
    "# !jupyter nbconvert --to html /content/drive/MyDrive/Colab\\ Notebooks/Copy\\ of\\ robot_vacuum.ipynb"
   ]
  },
  {
   "cell_type": "markdown",
   "metadata": {
    "id": "D6p_zHm-f5Xh"
   },
   "source": [
    "You will need to fix the file location on your GoogleDrive.\n",
    "\n",
    "## Introduction\n",
    "\n",
    "In this assignment you will implement a simulator environment for an automatic vacuum cleaner robot, a set of different reflex-based agent programs, and perform a comparison study for cleaning a single room. Focus on the __cleaning phase__ which starts when the robot is activated and ends when the last dirty square in the room has been cleaned. Someone else will take care of the agent program needed to navigate back to the charging station after the room is clean.\n",
    "\n",
    "## PEAS description of the cleaning phase\n",
    "\n",
    "__Performance Measure:__ Each action costs 1 energy unit. The performance is measured as the sum of the energy units used to clean the whole room.\n",
    "\n",
    "__Environment:__ A room with $n \\times n$ squares where $n = 5$. Dirt is randomly placed on each square with probability $p = 0.2$. For simplicity, you can assume that the agent knows the size and the layout of the room (i.e., it knows $n$). To start, the agent is placed on a random square.\n",
    "\n",
    "__Actuators:__ The agent can clean the current square (action `suck`) or move to an adjacent square by going `north`, `east`, `south`, or `west`.\n",
    "\n",
    "__Sensors:__ Four bumper sensors, one for north, east, south, and west; a dirt sensor reporting dirt in the current square.  \n",
    "\n",
    "\n",
    "## The agent program for a simple randomized agent\n",
    "\n",
    "The agent program is a function that gets sensor information (the current percepts) as the arguments. The arguments are:\n",
    "\n",
    "* A dictionary with boolean entries for the for bumper sensors `north`, `east`, `west`, `south`. E.g., if the agent is on the north-west corner, `bumpers` will be `{\"north\" : True, \"east\" : False, \"south\" : False, \"west\" : True}`.\n",
    "* The dirt sensor produces a boolean.\n",
    "\n",
    "The agent returns the chosen action as a string.\n",
    "\n",
    "Here is an example implementation for the agent program of a simple randomized agent:  "
   ]
  },
  {
   "cell_type": "code",
   "execution_count": 9,
   "metadata": {
    "id": "7XiXShYUf5Xi"
   },
   "outputs": [],
   "source": [
    "# make sure numpy is installed\n",
    "!pip install -q numpy"
   ]
  },
  {
   "cell_type": "code",
   "execution_count": 10,
   "metadata": {
    "id": "cR66iDjmf5Xi"
   },
   "outputs": [],
   "source": [
    "import numpy as np\n",
    "\n",
    "actions = [\"north\", \"east\", \"west\", \"south\", \"suck\"]\n",
    "\n",
    "def simple_randomized_agent(bumpers, dirty):\n",
    "    return np.random.choice(actions)"
   ]
  },
  {
   "cell_type": "code",
   "execution_count": 11,
   "metadata": {
    "id": "6IqHXAZ3f5Xi",
    "outputId": "3dfd9294-abb2-486f-da2d-d11eb8fd93c0"
   },
   "outputs": [
    {
     "data": {
      "text/plain": [
       "'south'"
      ]
     },
     "execution_count": 11,
     "metadata": {},
     "output_type": "execute_result"
    }
   ],
   "source": [
    "# define percepts (current location is NW corner and it is dirty)\n",
    "bumpers = {\"north\" : True, \"east\" : False, \"south\" : False, \"west\" : True}\n",
    "dirty = True\n",
    "\n",
    "# call agent program function with percepts and it returns an action\n",
    "simple_randomized_agent(bumpers, dirty)"
   ]
  },
  {
   "cell_type": "markdown",
   "metadata": {
    "id": "7dDLS_fsf5Xj"
   },
   "source": [
    "__Note:__ This is not a rational intelligent agent. It ignores its sensors and may bump into a wall repeatedly or not clean a dirty square. You will be asked to implement rational agents below."
   ]
  },
  {
   "cell_type": "markdown",
   "metadata": {
    "id": "Mc9i4js8f5Xj"
   },
   "source": [
    "## Simple environment example\n",
    "\n",
    "We implement a simple simulation environment that supplies the agent with its percepts.\n",
    "The simple environment is infinite in size (bumpers are always `False`) and every square is always dirty, even if the agent cleans it. The environment function returns a different performance measure than the one specified in the PEAS description! Since the room is infinite and all squares are constantly dirty, the agent can never clean the whole room. Your implementation needs to implement the **correct performance measure.** The energy budget of the agent is specified as `max_steps`."
   ]
  },
  {
   "cell_type": "code",
   "execution_count": 12,
   "metadata": {
    "id": "KQf6W9jsf5Xk"
   },
   "outputs": [],
   "source": [
    "def simple_environment(agent, max_steps, verbose = True):\n",
    "    num_cleaned = 0\n",
    "\n",
    "    for i in range(max_steps):\n",
    "        dirty = True\n",
    "        bumpers = {\"north\" : False, \"south\" : False, \"west\" : False, \"east\" : False}\n",
    "\n",
    "        action = agent(bumpers, dirty)\n",
    "        if (verbose): print(\"step\", i , \"- action:\", action)\n",
    "\n",
    "        if (action == \"suck\"):\n",
    "            num_cleaned = num_cleaned + 1\n",
    "\n",
    "    return num_cleaned"
   ]
  },
  {
   "cell_type": "markdown",
   "metadata": {
    "id": "ZYsrcQBXf5Xk"
   },
   "source": [
    "Do one simulation run with a simple randomized agent that has enough energy for 20 steps."
   ]
  },
  {
   "cell_type": "code",
   "execution_count": 13,
   "metadata": {
    "id": "GLAG--qMf5Xk",
    "outputId": "89d6ae00-5a17-4a6d-c25c-c858d58f8839"
   },
   "outputs": [
    {
     "name": "stdout",
     "output_type": "stream",
     "text": [
      "step 0 - action: south\n",
      "step 1 - action: suck\n",
      "step 2 - action: west\n",
      "step 3 - action: south\n",
      "step 4 - action: suck\n",
      "step 5 - action: north\n",
      "step 6 - action: south\n",
      "step 7 - action: north\n",
      "step 8 - action: north\n",
      "step 9 - action: north\n",
      "step 10 - action: south\n",
      "step 11 - action: north\n",
      "step 12 - action: suck\n",
      "step 13 - action: north\n",
      "step 14 - action: north\n",
      "step 15 - action: north\n",
      "step 16 - action: north\n",
      "step 17 - action: north\n",
      "step 18 - action: east\n",
      "step 19 - action: suck\n"
     ]
    },
    {
     "data": {
      "text/plain": [
       "4"
      ]
     },
     "execution_count": 13,
     "metadata": {},
     "output_type": "execute_result"
    }
   ],
   "source": [
    "simple_environment(simple_randomized_agent, max_steps = 20)"
   ]
  },
  {
   "cell_type": "markdown",
   "metadata": {
    "id": "vxSNjsXrf5Xk"
   },
   "source": [
    "# Tasks\n",
    "\n",
    "## General [10 Points]\n",
    "\n",
    "1. Make sure that you use the latest version of this notebook.\n",
    "2. Your implementation can use libraries like math, numpy, scipy, but not libraries that implement intelligent agents or complete search algorithms. Try to keep the code simple! In this course, we want to learn about the algorithms and we often do not need to use object-oriented design.\n",
    "3. You notebook needs to be formatted professionally.\n",
    "    - Add additional markdown blocks for your description, comments in the code, add tables and use mathplotlib to produce charts where appropriate\n",
    "    - Do not show debugging output or include an excessive amount of output.\n",
    "    - Check that your submitted file is readable. For example, long lines may get cut off. You don't have control over page breaks, so do not worry about these.\n",
    "4. Document your code. Add a short discussion of how your implementation works and your design choices.\n",
    "\n",
    "\n",
    "## Task 1: Implement a simulation environment [20 Points]\n",
    "\n",
    "The simple environment above is not very realistic. Your environment simulator needs to follow the PEAS description from above. It needs to:\n",
    "\n",
    "* Initialize the environment by storing the state of each square (clean/dirty) and making some dirty. ([Help with random numbers and arrays in Python](https://github.com/mhahsler/CS7320-AI/blob/master/HOWTOs/random_numbers_and_arrays.ipynb))\n",
    "* Keep track of the agent's position.\n",
    "* Call the agent function repeatedly and provide the agent function with the sensor inputs.  \n",
    "* React to the agent's actions. E.g, by removing dirt from a square or moving the agent around unless there is a wall in the way.\n",
    "* Keep track of the performance measure. That is, track the agent's actions until all dirty squares are clean and count the number of actions it takes the agent to complete the task.\n",
    "\n",
    "The easiest implementation for the environment is to hold an 2-dimensional array to represent if squares are clean or dirty and to call the agent function in a loop until all squares are clean or a predefined number of steps have been reached (i.e., the robot runs out of energy).\n",
    "\n",
    "The simulation environment should be a function like the `simple_environment()` and needs to work with the simple randomized agent program from above. **Use the same environment for all your agent implementations in the tasks below.**\n",
    "\n",
    "*Note on debugging:* Debugging is difficult. Make sure your environment prints enough information when you use `verbose = True`. Also, implementing a function that the environment can use to displays the room with dirt and the current position of the robot at every step is very useful.  "
   ]
  },
  {
   "cell_type": "code",
   "execution_count": 14,
   "metadata": {
    "id": "qrlqrntuf5Xk"
   },
   "outputs": [],
   "source": [
    "import numpy as np\n",
    "import random\n",
    "\n",
    "# Random number generator\n",
    "actions = [\"north\", \"east\", \"west\", \"south\"] # Directions for the agent to move \n",
    "\n",
    "# Simple environment function\n",
    "def SimpleEnvironment(a, agent, room_size, max_steps=25, verbose=True):\n",
    "    # 3 global variables are declared\n",
    "    global steps_performed\n",
    "    global target_x  \n",
    "    global target_y\n",
    "\n",
    "    # Generate dirtiness: True for dirty, False for clean with 50% probability\n",
    "    dirty = [[random.random() < 0.5 for _ in range(room_size)] for _ in range(room_size)]  \n",
    "    x, y = random.randint(0, room_size - 1), random.randint(0, room_size - 1)\n",
    "\n",
    "    # Initialize variables for model and non-model agents\n",
    "    num_cleaned = 0\n",
    "\n",
    "    if a == \"model\":\n",
    "        steps_performed, x, y = locateCorner(room_size, x, y) # calling of locateCorner function\n",
    "        target_x, target_y = x, y\n",
    "    else:\n",
    "        steps_performed = 0\n",
    "\n",
    "    for i in range(steps_performed, max_steps):\n",
    "        # Define bumpers based on the vacuum's position within the room \n",
    "        bumpers = get_bumpers(room_size, x, y)\n",
    "\n",
    "        # Get action from the agent\n",
    "        action, x, y = agent(room_size, bumpers, dirty[x][y], x, y)\n",
    "\n",
    "        if verbose:\n",
    "            print(f\"Step {i} - Action: {action}\")\n",
    "\n",
    "        # If the action is 'suck', clean the tile\n",
    "        if action == \"suck\":\n",
    "            dirty[x][y] = False\n",
    "            num_cleaned += 1\n",
    "\n",
    "    return num_cleaned\n",
    "\n",
    "# Function to determine bumpers based on the vacuum's position\n",
    "def get_bumpers(room_size, x, y):\n",
    "    bumpers = {\"north\": x == 0, \"south\": x == room_size - 1, \"west\": y == 0, \"east\": y == room_size - 1}\n",
    "    return bumpers"
   ]
  },
  {
   "cell_type": "markdown",
   "metadata": {
    "id": "pOQ0kZhsf5Xk"
   },
   "source": [
    "## Task 2:  Implement a simple reflex agent [10 Points]\n",
    "\n",
    "The simple reflex agent randomly walks around but reacts to the bumper sensor by not bumping into the wall and to dirt with sucking. Implement the agent program as a function.\n",
    "\n",
    "_Note:_ Agents cannot directly use variable in the environment. They only gets the percepts as the arguments to the agent function. Use the function signature for the `simple_randomized_agent` function above."
   ]
  },
  {
   "cell_type": "code",
   "execution_count": 15,
   "metadata": {
    "id": "seMOb_r-f5Xk"
   },
   "outputs": [
    {
     "name": "stdout",
     "output_type": "stream",
     "text": [
      "Step 0 - Action: north\n",
      "Step 1 - Action: suck\n",
      "Step 2 - Action: north\n",
      "Step 3 - Action: suck\n",
      "Step 4 - Action: west\n",
      "Step 5 - Action: east\n",
      "Step 6 - Action: north\n",
      "Step 7 - Action: west\n",
      "Step 8 - Action: east\n",
      "Step 9 - Action: south\n",
      "Step 10 - Action: north\n",
      "Step 11 - Action: south\n",
      "Step 12 - Action: west\n",
      "Step 13 - Action: north\n",
      "Step 14 - Action: south\n",
      "Step 15 - Action: south\n",
      "Step 16 - Action: suck\n",
      "Step 17 - Action: east\n",
      "Step 18 - Action: south\n",
      "Step 19 - Action: west\n"
     ]
    },
    {
     "data": {
      "text/plain": [
       "3"
      ]
     },
     "execution_count": 15,
     "metadata": {},
     "output_type": "execute_result"
    }
   ],
   "source": [
    "# Simple reflex agent definition\n",
    "def simple_reflex_agent(room_size, bumpers, dirty, x, y):\n",
    "    if dirty:\n",
    "        return \"suck\", x, y\n",
    "    else:\n",
    "        while True:\n",
    "            a = np.random.choice(actions)  # Random choice selection \n",
    "            if not bumpers[a]:\n",
    "                if a == 'north':\n",
    "                    x -= 1\n",
    "                elif a == 'south':\n",
    "                    x += 1\n",
    "                elif a == 'west':\n",
    "                    y -= 1\n",
    "                elif a == 'east':\n",
    "                    y += 1\n",
    "                return a, x, y\n",
    "            \n",
    "SimpleEnvironment(\"simple\", simple_reflex_agent, 5, 20)"
   ]
  },
  {
   "cell_type": "markdown",
   "metadata": {
    "id": "B9vP99I1f5Xl"
   },
   "source": [
    "## Task 3: Implement a model-based reflex agent [20 Points]\n",
    "\n",
    "Model-based agents use a state to keep track of what they have done and perceived so far. Your agent needs to find out where it is located and then keep track of its current location. You also need a set of rules based on the state and the percepts to make sure that the agent will clean the whole room. For example, the agent can move to a corner to determine its location and then it can navigate through the whole room and clean dirty squares.\n",
    "\n",
    "Describe how you define the __agent state__ and how your agent works before implementing it. ([Help with implementing state information on Python](https://github.com/mhahsler/CS7320-AI/blob/master/HOWTOs/store_agent_state_information.ipynb))"
   ]
  },
  {
   "cell_type": "markdown",
   "metadata": {
    "id": "whYJ2ivuf5Xl"
   },
   "source": [
    "#### The agent makes choices based on where it is right now and what it knows about the nearest corner. Both the target corner and  the agent's current place are part of its state. It first spots the closest corner. Then, it moves through the grid, checking its location  and the cleanliness of the tiles. This way, it makes sure everything gets cleaned.\n",
    "\n",
    "locatecorner : It locates the nearest corner to the agent\n",
    "\n",
    "\n",
    "model_based_agent : It gets a proper path to clean the room"
   ]
  },
  {
   "cell_type": "code",
   "execution_count": 16,
   "metadata": {
    "id": "fLwBLxW0f5Xl"
   },
   "outputs": [
    {
     "name": "stdout",
     "output_type": "stream",
     "text": [
      "step 0 - action: north\n",
      "step 1 - action: east\n",
      "step 2 - action: east\n",
      "step 3 - action: east\n",
      "Step 4 - Action: suck\n",
      "Step 5 - Action: south\n",
      "Step 6 - Action: west\n",
      "Step 7 - Action: suck\n",
      "Step 8 - Action: east\n",
      "Step 9 - Action: south\n",
      "Step 10 - Action: suck\n",
      "Step 11 - Action: north\n",
      "Step 12 - Action: south\n",
      "Step 13 - Action: north\n",
      "Step 14 - Action: south\n",
      "Step 15 - Action: north\n",
      "Step 16 - Action: south\n",
      "Step 17 - Action: west\n",
      "Step 18 - Action: west\n",
      "Step 19 - Action: west\n",
      "Step 20 - Action: suck\n",
      "Step 21 - Action: east\n",
      "Step 22 - Action: east\n",
      "Step 23 - Action: east\n",
      "Step 24 - Action: west\n",
      "Step 25 - Action: north\n",
      "Step 26 - Action: east\n",
      "Step 27 - Action: north\n",
      "Step 28 - Action: south\n",
      "Step 29 - Action: north\n",
      "Step 30 - Action: south\n",
      "Step 31 - Action: west\n",
      "Step 32 - Action: north\n",
      "Step 33 - Action: south\n",
      "Step 34 - Action: east\n",
      "Step 35 - Action: west\n",
      "Step 36 - Action: west\n",
      "Step 37 - Action: south\n",
      "Step 38 - Action: north\n",
      "Step 39 - Action: north\n",
      "Step 40 - Action: suck\n",
      "Step 41 - Action: east\n",
      "Step 42 - Action: south\n",
      "Step 43 - Action: north\n",
      "Step 44 - Action: west\n",
      "Step 45 - Action: east\n",
      "Step 46 - Action: south\n",
      "Step 47 - Action: north\n",
      "Step 48 - Action: west\n",
      "Step 49 - Action: south\n"
     ]
    },
    {
     "data": {
      "text/plain": [
       "5"
      ]
     },
     "execution_count": 16,
     "metadata": {},
     "output_type": "execute_result"
    }
   ],
   "source": [
    "# Function to find the nearest corner\n",
    "def locateCorner(room_size, x, y): \n",
    "    steps_performed = 0\n",
    "\n",
    "    # Find nearest corner based on the position relative to the midpoint of the room\n",
    "    if x < (room_size / 2):\n",
    "        target_x = 0\n",
    "    else: \n",
    "        target_x = room_size - 1  # Adjusted to room_size - 1 to stay within bounds\n",
    "    if y < (room_size / 2):\n",
    "        target_y = 0 \n",
    "    else:\n",
    "        target_y = room_size - 1  # Adjusted to room_size - 1 to stay within bounds\n",
    "\n",
    "    # Move towards the corner\n",
    "    if target_x == 0 and target_y == 0:\n",
    "        while x != 0:\n",
    "            x -= 1\n",
    "            print(\"step\", steps_performed, \"- action: north\")\n",
    "            steps_performed += 1\n",
    "        while y != 0:\n",
    "            y -= 1\n",
    "            print(\"step\", steps_performed, \"- action: west\")\n",
    "            steps_performed += 1\n",
    "\n",
    "    elif target_x == 0 and target_y == room_size - 1:\n",
    "        while x != 0:\n",
    "            x -= 1\n",
    "            print(\"step\", steps_performed, \"- action: north\")\n",
    "            steps_performed += 1\n",
    "        while y != room_size - 1:\n",
    "            y += 1  \n",
    "            print(\"step\", steps_performed, \"- action: east\")\n",
    "            steps_performed += 1\n",
    "\n",
    "    elif target_x == room_size - 1 and target_y == 0: \n",
    "        while x != room_size - 1:\n",
    "            x += 1\n",
    "            print(\"step\", steps_performed, \"- action: south\")\n",
    "            steps_performed += 1\n",
    "        while y != 0:\n",
    "            y -= 1\n",
    "            print(\"step\", steps_performed, \"- action: west\")\n",
    "            steps_performed += 1\n",
    "\n",
    "    elif target_x == room_size - 1 and target_y == room_size - 1:\n",
    "        while x != room_size - 1: \n",
    "            x += 1\n",
    "            print(\"step\", steps_performed, \"- action: south\")\n",
    "            steps_performed += 1\n",
    "        while y != room_size - 1:\n",
    "            y += 1\n",
    "            print(\"step\", steps_performed, \"- action: east\")\n",
    "            steps_performed += 1\n",
    "\n",
    "    return steps_performed, x, y\n",
    "\n",
    "# Model-based agent function\n",
    "def model_based_agent(room_size, bumpers, dirty, x, y): \n",
    "    if not dirty:\n",
    "        # If the nearest corner is (0,0), follow the pattern\n",
    "        if target_x == 0 and target_y == 0:\n",
    "            if x % 2 == 0: \n",
    "                if y < room_size - 1:\n",
    "                    y += 1\n",
    "                    return \"east\", x, y\n",
    "                elif x < room_size - 1:\n",
    "                    x += 1 \n",
    "                    return \"south\", x, y\n",
    "            else:\n",
    "                if y > 0:\n",
    "                    y -= 1\n",
    "                    return \"west\", x, y\n",
    "                else:\n",
    "                    x += 1\n",
    "                    return \"south\", x, y\n",
    "\n",
    "        # If the nearest corner is (0, room_size - 1), follow this pattern\n",
    "        elif target_x == 0 and target_y == room_size - 1:\n",
    "            if x % 2 == 0:\n",
    "                if y < room_size - 1:\n",
    "                    y += 1\n",
    "                    return \"east\", x, y\n",
    "                elif x < room_size - 1:\n",
    "                    x += 1\n",
    "                    return \"south\", x, y\n",
    "            else:\n",
    "                if y > 0:\n",
    "                    y -= 1\n",
    "                    return \"west\", x, y\n",
    "                else:\n",
    "                    x += 1\n",
    "                    return \"south\", x, y\n",
    "\n",
    "        # If the nearest corner is (room_size - 1, 0) or (room_size - 1, room_size - 1)\n",
    "        elif (target_x == room_size - 1 and target_y == 0) or (target_x == room_size - 1 and target_y == room_size - 1):\n",
    "            if y < room_size - 1:\n",
    "                y += 1\n",
    "                return \"east\", x, y\n",
    "            else:\n",
    "                x -= 1\n",
    "                return \"north\", x, y\n",
    "\n",
    "        elif y > 0:\n",
    "            y -= 1\n",
    "            return \"west\", x, y\n",
    "\n",
    "        else:\n",
    "            x += 1\n",
    "            return \"north\", x, y\n",
    "\n",
    "    else:\n",
    "        return \"suck\", x, y\n",
    "\n",
    "# Example of running the Simple Environment with a Simple Reflex Agent\n",
    "SimpleEnvironment(\"model\", simple_reflex_agent, 10,50)"
   ]
  },
  {
   "cell_type": "markdown",
   "metadata": {
    "id": "WRpYxbH9f5Xl"
   },
   "source": [
    "## Task 4: Simulation study [30 Points]\n",
    "\n",
    "Compare the performance (the performance measure is defined in the PEAS description above) of the agents using  environments of different size. E.g., $5 \\times 5$, $10 \\times 10$ and\n",
    "$100 \\times 100$. Use 100 random runs for each. Present the results using tables and graphs. Discuss the differences between the agents.\n",
    "([Help with charts and tables in Python](https://github.com/mhahsler/CS7320-AI/blob/master/HOWTOs/charts_and_tables.ipynb))"
   ]
  },
  {
   "cell_type": "code",
   "execution_count": 17,
   "metadata": {
    "id": "YjnU_TMgf5Xl"
   },
   "outputs": [],
   "source": [
    "# import matplotlib.pyplot as plt\n",
    "import pandas as pd\n",
    "import numpy as np\n",
    "import matplotlib.pyplot as plt\n",
    "\n",
    "# Define the environment and agents as before, but ensure no verbose output\n",
    "\n",
    "def SimpleEnvironment(a, agent, room_size, max_steps=100, verbose=False):\n",
    "    # Initialize the room (grid) and random dirt placement\n",
    "    dirty = [[np.random.random() < 0.5 for _ in range(room_size)] for _ in range(room_size)]\n",
    "    \n",
    "    # Starting position of the agent\n",
    "    x, y = np.random.randint(0, room_size), np.random.randint(0, room_size)\n",
    "\n",
    "    num_cleaned = 0\n",
    "    for i in range(max_steps):\n",
    "        bumpers = {\n",
    "            \"north\": x == 0,\n",
    "            \"south\": x == room_size - 1,\n",
    "            \"west\": y == 0,\n",
    "            \"east\": y == room_size - 1\n",
    "        }\n",
    "\n",
    "        action, x, y = agent(room_size, bumpers, dirty[x][y], x, y)\n",
    "\n",
    "        # Ensure x and y stay within bounds\n",
    "        x = max(0, min(x, room_size - 1))\n",
    "        y = max(0, min(y, room_size - 1))\n",
    "\n",
    "        # If the action is to clean (\"suck\"), clean the current position\n",
    "        if action == \"suck\":\n",
    "            dirty[x][y] = False\n",
    "            num_cleaned += 1\n",
    "\n",
    "    return num_cleaned\n",
    "\n",
    "\n",
    "def simple_randomized_agent(room_size, bumpers, dirty, x, y):\n",
    "    actions = [\"north\", \"east\", \"west\", \"south\"]\n",
    "    if dirty:\n",
    "        return \"suck\", x, y\n",
    "    else:\n",
    "        while True:\n",
    "            a = np.random.choice(actions)\n",
    "            if not bumpers[a]:\n",
    "                if a == 'north':\n",
    "                    x -= 1\n",
    "                elif a == 'south':\n",
    "                    x += 1\n",
    "                elif a == 'west':\n",
    "                    y -= 1\n",
    "                elif a == 'east':\n",
    "                    y += 1\n",
    "                return a, x, y\n",
    "\n",
    "\n",
    "# Define the model_based_agent as before\n",
    "def model_based_agent(room_size, bumpers, dirty, x, y):\n",
    "    if not dirty:\n",
    "        if x % 2 == 0:\n",
    "            if y < room_size - 1:\n",
    "                y += 1\n",
    "                return \"east\", x, y\n",
    "            else:\n",
    "                x += 1\n",
    "                return \"south\", x, y\n",
    "        else:\n",
    "            if y > 0:\n",
    "                y -= 1\n",
    "                return \"west\", x, y\n",
    "            else:\n",
    "                x += 1\n",
    "                return \"south\", x, y\n",
    "    else:\n",
    "        return \"suck\", x, y\n",
    "\n",
    "# Simulation Study\n",
    "results = {5: {}, 10: {}, 100: {}}\n",
    "\n",
    "for room_size in [5, 10, 100]:\n",
    "    randomized_agent = []\n",
    "    simple_reflex_agent_scores = []\n",
    "    model_based_agent_scores = []\n",
    "\n",
    "    for _ in range(100):\n",
    "        randomized_agent.append(SimpleEnvironment(\"randomized\", simple_randomized_agent, room_size, max_steps=100))\n",
    "        simple_reflex_agent_scores.append(SimpleEnvironment(\"simple\", simple_randomized_agent, room_size, max_steps=100))\n",
    "        model_based_agent_scores.append(SimpleEnvironment(\"model\", model_based_agent, room_size, max_steps=100))\n",
    "\n",
    "    results[room_size][\"Randomized Agent\"] = sum(randomized_agent) / len(randomized_agent)\n",
    "    results[room_size][\"Simple Reflex Agent\"] = sum(simple_reflex_agent_scores) / len(simple_reflex_agent_scores)\n",
    "    results[room_size][\"Model-based Reflex Agent\"] = sum(model_based_agent_scores) / len(model_based_agent_scores)"
   ]
  },
  {
   "cell_type": "markdown",
   "metadata": {
    "id": "QwPMRJCGf5Xl"
   },
   "source": [
    "Fill out the following table with the average performance measure for 100 random runs (you may also create this table with code):\n",
    "\n",
    "| Size     | Randomized Agent | Simple Reflex Agent | Model-based Reflex Agent |\n",
    "|----------|------------------|---------------------|--------------------------|\n",
    "| 5x5     | | | |\n",
    "| 10x10   | | | |\n",
    "| 100x100 | | | |\n",
    "\n",
    "Add charts to compare the performance of the different agents."
   ]
  },
  {
   "cell_type": "code",
   "execution_count": 18,
   "metadata": {
    "id": "r2yWA7LKf5Xl"
   },
   "outputs": [
    {
     "name": "stdout",
     "output_type": "stream",
     "text": [
      "     Randomized Agent  Simple Reflex Agent  Model-based Reflex Agent\n",
      "5               11.29                10.76                      6.03\n",
      "10              17.35                16.89                     26.36\n",
      "100             19.33                19.81                     33.58\n"
     ]
    },
    {
     "data": {
      "image/png": "[encoded data removed]",
      "text/plain": [
       "<Figure size 432x288 with 1 Axes>"
      ]
     },
     "metadata": {
      "needs_background": "light"
     },
     "output_type": "display_data"
    }
   ],
   "source": [
    "# Convert the results to a DataFrame for display\n",
    "df = pd.DataFrame(results).T\n",
    "print(df)\n",
    "\n",
    "# Plot the results\n",
    "df.plot(kind='bar')\n",
    "plt.ylabel(\"Average Performance (Dirt Cleaned)\")\n",
    "plt.title(\"Performance Comparison of Agents across Room Sizes\")\n",
    "plt.show()"
   ]
  },
  {
   "cell_type": "markdown",
   "metadata": {
    "id": "seKInWadf5Xl"
   },
   "source": [
    "## Task 5: Robustness of the agent implementations [10 Points]\n",
    "\n",
    "Describe how **your agent implementations** will perform\n",
    "\n",
    "* if it is put into a rectangular room with unknown size,\n",
    "* if the cleaning area can have an irregular shape (e.g., a hallway connecting two rooms), or\n",
    "* if the room contains obstacles (i.e., squares that it cannot pass through and trigger the bumper sensors).\n",
    "* if the dirt sensor is not perfect and gives 10% of the time a wrong reading (clean when it is dirty or dirty when it is clean).\n",
    "* if the bumper sensor is not perfect and 10% of the time does not report a wall when there is one."
   ]
  },
  {
   "cell_type": "markdown",
   "metadata": {
    "id": "6L18yhPtf5Xl"
   },
   "source": [
    "### 1. If it is put into a rectangular room with unknown size\n",
    "      \n",
    "SIMPLE REFLEX AGENT: The agent can come to know where is dirt but it does't contain any information regarding the state of the room. The regions can be repeated many times due to irregular rooms and it might struggle to handle the room.\n",
    "\n",
    "MODEL BASED REFLEX AGENT: It creates a model to find the corner and works on that on it's own. It can handle bigger rooms which are in proper rectangular shapes rather than the irregular shapes.\n",
    "\n",
    "### 2. If the cleaning area can have an irregular shape (e.g., a hallway connecting two rooms)\n",
    "\n",
    "SIMPLE REFLEX AGENT: It might avoid the walls and clean whenever dirt is found. It will not efficiently naviagte to places out of his coverage. \n",
    "\n",
    "MODEL BASED REFLEX AGENT: It tries to map and navigate space and this makes it more robust. The model building function would be robust to various irregularities.\n",
    "\n",
    "### 3. If the room contains obstacles (i.e., squares that it cannot pass through and trigger the bumper sensors).\n",
    "\n",
    "SIMPLE REFLEX AGENT: Because of the bumper sensor it will avoid the obstacles. It will not movve to that direction as it will find the obsatacles. If obstacles will be complex, it will be hard to detect them. \n",
    "\n",
    "MODEL BASED REFLEX AGENT: It will handle the obstacles effectively as it can store in the memory and it will work on effecticiently as it remembers the position of the obstacles.\n",
    "\n",
    "### 4: If the dirt sensor is not perfect and gives 10% of the time a wrong reading (clean when it is dirty or dirty when it is clean).\n",
    "\n",
    "SIMPLE REFLEX AGENT: The agent will miss cleaning the proper titles and will make unnecesaary moves which should not be the case. It won't be optimized and it will take more time to clean the room if it happens.\n",
    "\n",
    "MODEL BASED REFLEX AGENT: In this it can cross check the sensor readings and get to know the reliability of it. Accurate model can be created after certain point of time.\n",
    "\n",
    "### 5: If the bumper sensor is not perfect and 10% of the time does not report a wall when there is one.\n",
    "\n",
    "SIMPLE REFLEX AGENT: It will not get to know if wall is present at certain points. It can continuously get into the walls. \n",
    "\n",
    "MODEL BASED REFLEX AGENT: The systematic approach might help in better handling the bumper inaccuracies and also, it might be sometimes inefficient in handling the walls and hits it. "
   ]
  },
  {
   "cell_type": "markdown",
   "metadata": {
    "id": "q09tk9Xgf5Xl"
   },
   "source": [
    "## Advanced task: Imperfect Dirt Sensor\n",
    "\n",
    "* __Graduate students__ need to complete this task [10 points]\n",
    "* __Undergraduate students__ can attempt this as a bonus task [max +5 bonus points].\n",
    "\n",
    "1. Change your simulation environment to run experiments for the following problem: The dirt sensor has a 10% chance of giving the wrong reading. Perform experiments to observe how this changes the performance of the three implementations. Your model-based reflex agent is likely not able to clean the whole room, so you need to measure performance differently as a tradeoff between energy cost and number of uncleaned squares.\n",
    "\n",
    "2. Design an implement a solution for your model-based agent that will clean better. Show the improvement with experiments."
   ]
  },
  {
   "cell_type": "code",
   "execution_count": 19,
   "metadata": {
    "id": "3hf356Tmf5Xl"
   },
   "outputs": [
    {
     "name": "stdout",
     "output_type": "stream",
     "text": [
      "Step 0 - Action: suck\n",
      "Step 1 - Action: north\n",
      "Step 2 - Action: suck\n",
      "Step 3 - Action: east\n",
      "Step 4 - Action: suck\n",
      "Step 5 - Action: south\n",
      "Step 6 - Action: suck\n",
      "Step 7 - Action: west\n",
      "Step 8 - Action: east\n",
      "Step 9 - Action: west\n",
      "Step 10 - Action: south\n",
      "Step 11 - Action: suck\n",
      "Step 12 - Action: north\n",
      "Step 13 - Action: south\n",
      "Step 14 - Action: east\n",
      "Step 15 - Action: suck\n",
      "Step 16 - Action: west\n",
      "Step 17 - Action: east\n",
      "Step 18 - Action: west\n",
      "Step 19 - Action: west\n",
      "Step 20 - Action: suck\n",
      "Step 21 - Action: south\n",
      "Step 22 - Action: suck\n",
      "Step 23 - Action: east\n",
      "Step 24 - Action: suck\n",
      "Step 25 - Action: north\n",
      "Step 26 - Action: east\n",
      "Step 27 - Action: west\n",
      "Step 28 - Action: west\n",
      "Step 29 - Action: east\n"
     ]
    },
    {
     "data": {
      "text/plain": [
       "9"
      ]
     },
     "execution_count": 19,
     "metadata": {},
     "output_type": "execute_result"
    }
   ],
   "source": [
    "import numpy as np\n",
    "import random\n",
    "\n",
    "def randomized_agent_with_obstacles(grid_size, bumpers, is_dirty, pos_x, pos_y): # Function for creating a randomized agent for any obstacles in between \n",
    "    directions = [\"north\", \"east\", \"west\", \"south\"] # List of possible directions \n",
    "    \n",
    "    if is_dirty:\n",
    "        return \"suck\", pos_x, pos_y\n",
    "    \n",
    "    while True:\n",
    "        move = np.random.choice(directions) # Randomly chooses for movement \n",
    "        if not bumpers[move]:\n",
    "            if move == \"north\":\n",
    "                pos_x -= 1\n",
    "            elif move == \"south\":\n",
    "                pos_x += 1\n",
    "            elif move == \"west\":\n",
    "                pos_y -= 1\n",
    "            elif move == \"east\":\n",
    "                pos_y += 1\n",
    "            return move, pos_x, pos_y\n",
    "\n",
    "def EnvironmentWithObstacles(agent_func, grid_size, max_steps, verbose=True): # The environment where the agent operates\n",
    "    # Initialize the dirty grid\n",
    "    dirty_grid = np.ones((grid_size, grid_size), dtype=bool)\n",
    "    \n",
    "    # Random start position\n",
    "    start_x, start_y = random.randint(0, grid_size-1), random.randint(0, grid_size-1)\n",
    "    cleaned_count = 0  # For counting no. of tiles cleaned \n",
    "\n",
    "    for step in range(max_steps):\n",
    "        # Determine bumpers based on the agent's position\n",
    "        if start_x == 0 and start_y == 0:\n",
    "             bumpers = {\"north\": True, \"south\": False, \"west\": True, \"east\": False}\n",
    "        elif start_x == 0 and start_y == grid_size-1:\n",
    "            bumpers = {\"north\": True, \"south\": False, \"west\": False, \"east\": True}\n",
    "        elif start_x == grid_size-1 and start_y == 0:\n",
    "            bumpers = {\"north\": False, \"south\": True, \"west\": True, \"east\": False}\n",
    "        elif start_x == grid_size-1 and start_y == grid_size-1:\n",
    "            bumpers = {\"north\": False, \"south\": True, \"west\": False, \"east\": True}\n",
    "        elif start_x == grid_size // 2 and start_y == grid_size // 2:\n",
    "            bumpers = {\"north\": True, \"south\": True, \"west\": False, \"east\": True}\n",
    "        elif start_x == 0:\n",
    "            bumpers = {\"north\": True, \"south\": False, \"west\": False, \"east\": False}\n",
    "        elif start_y == 0:\n",
    "            bumpers = {\"north\": False, \"south\": False, \"west\": True, \"east\": False}\n",
    "        elif start_x == grid_size-1:\n",
    "            bumpers = {\"north\": False, \"south\": True, \"west\": False, \"east\": False}\n",
    "        elif start_y == grid_size-1:\n",
    "            bumpers = {\"north\": False, \"south\": False, \"west\": False, \"east\": True}\n",
    "        else:\n",
    "            bumpers = {\"north\": False, \"south\": False, \"west\": False, \"east\": False}\n",
    "\n",
    "        action, start_x, start_y = agent_func(grid_size, bumpers, dirty_grid[start_x, start_y], start_x, start_y)\n",
    "        \n",
    "        if action == \"suck\":  # Tile is cleaned if agent chooses suck action \n",
    "            dirty_grid[start_x, start_y] = False\n",
    "            cleaned_count += 1\n",
    "            \n",
    "        if verbose:  # The action taken by agent is printed if verbose= True\n",
    "            print(f\"Step {step} - Action: {action}\")\n",
    "    \n",
    "    return cleaned_count\n",
    "\n",
    "EnvironmentWithObstacles(randomized_agent_with_obstacles, 5, 30)"
   ]
  },
  {
   "cell_type": "markdown",
   "metadata": {
    "id": "ha0lK_spf5Xl"
   },
   "source": [
    "## More advanced implementation tasks\n",
    "\n",
    "* __Obstacles:__ Change your simulation environment to run experiments for the following problem: Add random obstacle squares that also trigger the bumper sensor. The agent does not know where the obstacles are. Perform experiments to observe how this changes the performance of the three implementations. Describe what would need to be done to perform better with obstacles. Add code if you can.\n",
    "\n",
    "* __Agent for and environment with obstacles:__ Implement an agent for an environment where the agent does not know how large the environment is (we assume it is rectangular), where it starts or where the obstacles are. An option would be to always move to the closest unchecked/uncleaned square (note that this is actually depth-first search).\n",
    "\n",
    "* __Utility-based agent:__ Change the environment for a $5 \\times 5$ room, so each square has a fixed probability of getting dirty again. For the implementation, we give the environment a 2-dimensional array of probabilities. The utility of a state is defined as the number of currently clean squares in the room. Implement a utility-based agent that maximizes the expected utility over one full charge which lasts for 100000 time steps. To do this, the agent needs to learn the probabilities with which different squares get dirty again. This is very tricky!"
   ]
  },
  {
   "cell_type": "code",
   "execution_count": null,
   "metadata": {
    "id": "sgvSZmWjf5Xm"
   },
   "outputs": [],
   "source": [
    "# Your ideas/code"
   ]
  }
 ],
 "metadata": {
  "colab": {
   "provenance": []
  },
  "kernelspec": {
   "display_name": "Python 3 (ipykernel)",
   "language": "python",
   "name": "python3"
  },
  "language_info": {
   "codemirror_mode": {
    "name": "ipython",
    "version": 3
   },
   "file_extension": ".py",
   "mimetype": "text/x-python",
   "name": "python",
   "nbconvert_exporter": "python",
   "pygments_lexer": "ipython3",
   "version": "3.9.12"
  },
  "toc-autonumbering": false
 },
 "nbformat": 4,
 "nbformat_minor": 1
}
